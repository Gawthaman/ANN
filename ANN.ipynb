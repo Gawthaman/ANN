{
  "nbformat": 4,
  "nbformat_minor": 0,
  "metadata": {
    "colab": {
      "provenance": [],
      "authorship_tag": "ABX9TyNuyMbmS2kgA2x9VsvVvGEM",
      "include_colab_link": true
    },
    "kernelspec": {
      "name": "python3",
      "display_name": "Python 3"
    },
    "language_info": {
      "name": "python"
    }
  },
  "cells": [
    {
      "cell_type": "markdown",
      "metadata": {
        "id": "view-in-github",
        "colab_type": "text"
      },
      "source": [
        "<a href=\"https://colab.research.google.com/github/Gawthaman/ANN/blob/main/ANN.ipynb\" target=\"_parent\"><img src=\"https://colab.research.google.com/assets/colab-badge.svg\" alt=\"Open In Colab\"/></a>"
      ]
    },
    {
      "cell_type": "code",
      "execution_count": 2,
      "metadata": {
        "colab": {
          "base_uri": "https://localhost:8080/"
        },
        "id": "3i4Q7gFtSgGF",
        "outputId": "a828d03c-495e-4bd1-e061-111447cbb94b"
      },
      "outputs": [
        {
          "output_type": "stream",
          "name": "stdout",
          "text": [
            "tensor([[0.3215, 0.6083, 0.9778, 0.2926],\n",
            "        [0.9490, 0.4161, 0.7448, 0.5533]])\n"
          ]
        }
      ],
      "source": [
        "import torch\n",
        "\n",
        "data = [[1,2,3,4],[3,4,5,6]]\n",
        "x_data = torch.tensor(data)\n",
        "x_rand = torch.rand_like(x_data, dtype=torch.float)\n",
        "print (x_rand)"
      ]
    },
    {
      "cell_type": "code",
      "source": [
        "import torch\n",
        "import torch.nn as nn\n",
        "import torch.nn.functional as F\n",
        "\n",
        "class Model (nn.Module):\n",
        "  def __init__ (self, in_features = 4, h1 = 8, h2 = 9, out_features = 3):\n",
        "    super().__init__()\n",
        "    self.fc1 = nn.Linear(in_features, h1)\n",
        "    self.fc2 = nn.Linear(h1, h2)\n",
        "    self.out = nn.Linear(h2, out_features)\n",
        "\n",
        "  def forward (self, x):\n",
        "    x = F.relu(self.fc1(x))\n",
        "    x = F.relu(self.fc2(x))\n",
        "    x = self.out(x)\n",
        "\n",
        "    return x"
      ],
      "metadata": {
        "id": "hL9zO-qs1iyO"
      },
      "execution_count": 7,
      "outputs": []
    },
    {
      "cell_type": "code",
      "source": [
        "torch.manual_seed(41)\n",
        "model = Model()"
      ],
      "metadata": {
        "id": "0GQqaaES5tZW"
      },
      "execution_count": 9,
      "outputs": []
    },
    {
      "cell_type": "code",
      "source": [
        "import pandas as pd\n",
        "import matplotlib.pyplot as plt\n",
        "%matplotlib inline"
      ],
      "metadata": {
        "id": "JZPCDdytJOaB"
      },
      "execution_count": 10,
      "outputs": []
    },
    {
      "cell_type": "code",
      "source": [
        "url = 'https://gist.githubusercontent.com/curran/a08a1080b88344b0c8a7/raw/0e7a9b0a5d22642a06d3d5b9bcbad9890c8ee534/iris.csv'\n",
        "my_df = pd.read_csv(url)"
      ],
      "metadata": {
        "id": "b8NgXbd2JbYX"
      },
      "execution_count": 15,
      "outputs": []
    },
    {
      "cell_type": "code",
      "source": [
        "my_df['species'] = my_df['species'].replace('setosa', 0.0)\n",
        "my_df['species'] = my_df['species'].replace('versicolor', 1.0)\n",
        "my_df['species'] = my_df['species'].replace('virginica', 2.0)"
      ],
      "metadata": {
        "id": "87a1FrFhLD1j"
      },
      "execution_count": 24,
      "outputs": []
    },
    {
      "cell_type": "code",
      "source": [
        "X = my_df.drop('species', axis = 1)\n",
        "y = my_df['species']"
      ],
      "metadata": {
        "id": "TI_e4AtaPkgO"
      },
      "execution_count": 26,
      "outputs": []
    },
    {
      "cell_type": "code",
      "source": [
        "X = X.values\n",
        "y = y.values"
      ],
      "metadata": {
        "id": "tEA7whRqP97y"
      },
      "execution_count": 27,
      "outputs": []
    },
    {
      "cell_type": "code",
      "source": [
        "from sklearn.model_selection import train_test_split"
      ],
      "metadata": {
        "id": "_x-Wm0zUQGsL"
      },
      "execution_count": 28,
      "outputs": []
    },
    {
      "cell_type": "code",
      "source": [
        "X_train,X_test, y_train, y_test = train_test_split(X,y,test_size=0.2, random_state=41)"
      ],
      "metadata": {
        "id": "6t7cyV-xQOw9"
      },
      "execution_count": 29,
      "outputs": []
    },
    {
      "cell_type": "code",
      "source": [
        "X_train = torch.FloatTensor(X_train)\n",
        "X_test = torch.FloatTensor(X_test)\n",
        "y_train = torch.LongTensor(y_train)\n",
        "y_test = torch.LongTensor(y_test)"
      ],
      "metadata": {
        "id": "Q8r06rWFQ-HG"
      },
      "execution_count": 30,
      "outputs": []
    },
    {
      "cell_type": "code",
      "source": [
        "criterion = nn.CrossEntropyLoss()\n",
        "optimizer = torch.optim.Adam(model.parameters(), lr = 0.01)"
      ],
      "metadata": {
        "id": "sOPlwLvnRs07"
      },
      "execution_count": 31,
      "outputs": []
    },
    {
      "cell_type": "code",
      "source": [
        "epochs = 100\n",
        "losses = []\n",
        "for i in range(epochs):\n",
        "  y_pred = model.forward(X_train)\n",
        "  loss = criterion(y_pred, y_train)\n",
        "  losses.append(loss.detach().numpy())\n",
        "\n",
        "  if i % 10 == 0:\n",
        "    print(f'Epoch: {i} Loss: {loss}')\n",
        "  optimizer.zero_grad()\n",
        "  loss.backward()\n",
        "  optimizer.step()"
      ],
      "metadata": {
        "colab": {
          "base_uri": "https://localhost:8080/"
        },
        "id": "hxJo2WIES6zS",
        "outputId": "68a889e0-63fa-44e2-a43c-6057521b1a41"
      },
      "execution_count": 32,
      "outputs": [
        {
          "output_type": "stream",
          "name": "stdout",
          "text": [
            "Epoch: 0 Loss: 1.1251550912857056\n",
            "Epoch: 10 Loss: 1.0096259117126465\n",
            "Epoch: 20 Loss: 0.8157405853271484\n",
            "Epoch: 30 Loss: 0.585706353187561\n",
            "Epoch: 40 Loss: 0.3999636471271515\n",
            "Epoch: 50 Loss: 0.26768800616264343\n",
            "Epoch: 60 Loss: 0.17942361533641815\n",
            "Epoch: 70 Loss: 0.12151690572500229\n",
            "Epoch: 80 Loss: 0.0860118493437767\n",
            "Epoch: 90 Loss: 0.06520850956439972\n"
          ]
        }
      ]
    },
    {
      "cell_type": "code",
      "source": [
        "plt.plot(range(epochs), losses)\n",
        "plt.ylabel('Loss')\n",
        "plt.xlabel('Epoch')"
      ],
      "metadata": {
        "colab": {
          "base_uri": "https://localhost:8080/",
          "height": 467
        },
        "id": "5aZDgqXXUknP",
        "outputId": "624b05c8-a11c-4d2f-b402-f8505abe088d"
      },
      "execution_count": 33,
      "outputs": [
        {
          "output_type": "execute_result",
          "data": {
            "text/plain": [
              "Text(0.5, 0, 'Epoch')"
            ]
          },
          "metadata": {},
          "execution_count": 33
        },
        {
          "output_type": "display_data",
          "data": {
            "text/plain": [
              "<Figure size 640x480 with 1 Axes>"
            ],
            "image/png": "[encoded data removed]"
          },
          "metadata": {}
        }
      ]
    },
    {
      "cell_type": "code",
      "source": [
        "with torch.no_grad():\n",
        "  y_eval = model.forward(X_test)\n",
        "  loss = criterion(y_eval, y_test)"
      ],
      "metadata": {
        "id": "-ZlQGEG4bFzA"
      },
      "execution_count": 34,
      "outputs": []
    },
    {
      "cell_type": "markdown",
      "source": [],
      "metadata": {
        "id": "RqwKB8dMdPen"
      }
    },
    {
      "cell_type": "code",
      "source": [
        "correct = 0\n",
        "with torch.no_grad():\n",
        "  for i, data in enumerate(X_test):\n",
        "    y_val = model.forward(data)\n",
        "\n",
        "    print (f'{i+1}.) {str(y_val)}')\n",
        "    if y_val.argmax().item() ==  y_test[i]:\n",
        "      correct += 1\n",
        "print (f'We got {correct} correct')"
      ],
      "metadata": {
        "colab": {
          "base_uri": "https://localhost:8080/"
        },
        "id": "PCksXob1bjhd",
        "outputId": "5757bee8-bf0a-493d-f539-f0578071527c"
      },
      "execution_count": 37,
      "outputs": [
        {
          "output_type": "stream",
          "name": "stdout",
          "text": [
            "1.) tensor([-5.8760,  4.4628,  6.5124])\n",
            "2.) tensor([-7.5436,  4.1670,  9.7255])\n",
            "3.) tensor([-8.4504,  5.1271, 10.1987])\n",
            "4.) tensor([-4.3398,  5.6267,  2.5608])\n",
            "5.) tensor([-7.1825,  4.8754,  8.2992])\n",
            "6.) tensor([-3.3974,  5.3463,  1.2803])\n",
            "7.) tensor([-5.9231,  4.9822,  5.9997])\n",
            "8.) tensor([-4.2881,  5.7003,  2.3889])\n",
            "9.) tensor([-6.5356,  4.9257,  7.1260])\n",
            "10.) tensor([-8.0509,  4.4129, 10.3286])\n",
            "11.) tensor([-5.6762,  4.9500,  5.6215])\n",
            "12.) tensor([ 4.5662, -2.2476, -2.8911])\n",
            "13.) tensor([ 4.2571, -1.9967, -2.7330])\n",
            "14.) tensor([-2.1108,  4.0515,  0.5799])\n",
            "15.) tensor([ 3.4575, -1.2098, -2.3514])\n",
            "16.) tensor([-5.4724,  5.1165,  5.0934])\n",
            "17.) tensor([ 4.0557, -1.7949, -2.6492])\n",
            "18.) tensor([-5.8075,  4.6053,  6.2458])\n",
            "19.) tensor([ 4.4343, -2.1392, -2.8242])\n",
            "20.) tensor([ 3.4528, -1.2514, -2.3660])\n",
            "21.) tensor([-2.6189,  4.5619,  0.8574])\n",
            "22.) tensor([-7.7412,  4.7377,  9.4199])\n",
            "23.) tensor([ 3.5744, -1.3221, -2.4135])\n",
            "24.) tensor([ 4.5365, -2.2383, -2.8684])\n",
            "25.) tensor([-2.6579,  4.6177,  0.8823])\n",
            "26.) tensor([-3.2865,  5.2229,  1.2164])\n",
            "27.) tensor([-4.6514,  5.7776,  2.9273])\n",
            "28.) tensor([-2.9464,  4.8892,  1.0379])\n",
            "29.) tensor([ 4.5847, -2.2687, -2.8974])\n",
            "30.) tensor([-4.5784,  5.4554,  3.1660])\n",
            "We got 28 correct\n"
          ]
        }
      ]
    }
  ]
}